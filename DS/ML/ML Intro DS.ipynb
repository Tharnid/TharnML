{
 "cells": [
  {
   "cell_type": "code",
   "execution_count": null,
   "metadata": {
    "collapsed": true
   },
   "outputs": [],
   "source": [
    "# Machine Learning - semi automatic extraction of knowledge from data\n",
    "\n",
    "# extract knowledge or insight...hypothesis your question might be answered by the data\n",
    "\n",
    "# supervised learning - specific outcome to predict\n",
    "\n",
    "# unsupervised learning - extracting structure from data or how to best represent data\n",
    "\n",
    "# Kaggle's Titanic survival contest is supervised\n",
    "\n",
    "# 1. Train a machine learning model\n",
    "# 2. Make predictions on new email accurately preduct HAM or SPAM\n",
    "# 3. Suprvised learning is to build models that generalize...predict labels future emails\n",
    "\n"
   ]
  }
 ],
 "metadata": {
  "kernelspec": {
   "display_name": "Python 3",
   "language": "python",
   "name": "python3"
  },
  "language_info": {
   "codemirror_mode": {
    "name": "ipython",
    "version": 3
   },
   "file_extension": ".py",
   "mimetype": "text/x-python",
   "name": "python",
   "nbconvert_exporter": "python",
   "pygments_lexer": "ipython3",
   "version": "3.6.3"
  }
 },
 "nbformat": 4,
 "nbformat_minor": 2
}
