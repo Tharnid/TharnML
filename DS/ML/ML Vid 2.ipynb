{
 "cells": [
  {
   "cell_type": "code",
   "execution_count": null,
   "metadata": {
    "collapsed": true
   },
   "outputs": [],
   "source": [
    "# ML Vid #2\n",
    "\n",
    "# Benefits and drawbacks of scikitlearn\n",
    "# environment setup\n",
    "\n",
    "# Benefits\n",
    "\n",
    "# consistent to many ML models \n",
    "# makes it easy to larn new models\n",
    "# Sensisble defaults to get started quckly\n",
    "# documentation is outstanding\n",
    "# rich set of functionality\n",
    "# under active dev \n",
    "\n",
    "# Drawbacks\n",
    "\n",
    "# getting started in ML is easier with R...but go deeper with ML\n",
    "# scikitlearn has a ML phil instead of a statistical learning more on helping maxium accurate models...\n",
    "# R for understanding models\n",
    "\n",
    "# Requirements\n",
    "\n",
    "# Python 2 or 3\n",
    "# NumPy\n",
    "# SciPy\n",
    "\n",
    "# or used anaconda\n",
    "\n",
    "# CTRL + Enter to run cell"
   ]
  }
 ],
 "metadata": {
  "kernelspec": {
   "display_name": "Python 3",
   "language": "python",
   "name": "python3"
  },
  "language_info": {
   "codemirror_mode": {
    "name": "ipython",
    "version": 3
   },
   "file_extension": ".py",
   "mimetype": "text/x-python",
   "name": "python",
   "nbconvert_exporter": "python",
   "pygments_lexer": "ipython3",
   "version": "3.6.3"
  }
 },
 "nbformat": 4,
 "nbformat_minor": 2
}
